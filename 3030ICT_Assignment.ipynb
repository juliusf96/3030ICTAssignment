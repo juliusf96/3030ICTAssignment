{
 "cells": [
  {
   "cell_type": "markdown",
   "id": "c22d4312",
   "metadata": {
    "id": "c22d4312"
   },
   "source": [
    "<h1>3030ICT Assignment</h1>"
   ]
  },
  {
   "cell_type": "code",
   "execution_count": 1,
   "id": "SJERDCRqESF2",
   "metadata": {
    "colab": {
     "base_uri": "https://localhost:8080/",
     "height": 260
    },
    "id": "SJERDCRqESF2",
    "outputId": "e5c7f3a7-36e4-4a71-d6e1-e34df09e29bb"
   },
   "outputs": [
    {
     "name": "stderr",
     "output_type": "stream",
     "text": [
      "C:\\Users\\juliu\\anaconda3\\lib\\site-packages\\IPython\\core\\interactiveshell.py:3444: DtypeWarning: Columns (0,4,5,6,7) have mixed types.Specify dtype option on import or set low_memory=False.\n",
      "  exec(code_obj, self.user_global_ns, self.user_ns)\n"
     ]
    }
   ],
   "source": [
    "import numpy as np\n",
    "import pandas as pd\n",
    "import matplotlib.pyplot as plt\n",
    "import seaborn as sns\n",
    "\n",
    "%matplotlib inline\n",
    "\n",
    "df = pd.read_csv('data.csv')"
   ]
  },
  {
   "cell_type": "code",
   "execution_count": 2,
   "id": "5073ec15",
   "metadata": {},
   "outputs": [
    {
     "data": {
      "text/html": [
       "<div>\n",
       "<style scoped>\n",
       "    .dataframe tbody tr th:only-of-type {\n",
       "        vertical-align: middle;\n",
       "    }\n",
       "\n",
       "    .dataframe tbody tr th {\n",
       "        vertical-align: top;\n",
       "    }\n",
       "\n",
       "    .dataframe thead th {\n",
       "        text-align: right;\n",
       "    }\n",
       "</style>\n",
       "<table border=\"1\" class=\"dataframe\">\n",
       "  <thead>\n",
       "    <tr style=\"text-align: right;\">\n",
       "      <th></th>\n",
       "      <th>Id</th>\n",
       "      <th>Title</th>\n",
       "      <th>Company</th>\n",
       "      <th>Date</th>\n",
       "      <th>Location</th>\n",
       "      <th>Area</th>\n",
       "      <th>Classification</th>\n",
       "      <th>SubClassification</th>\n",
       "      <th>Requirement</th>\n",
       "      <th>FullDescription</th>\n",
       "      <th>LowestSalary</th>\n",
       "      <th>HighestSalary</th>\n",
       "      <th>JobType</th>\n",
       "    </tr>\n",
       "  </thead>\n",
       "  <tbody>\n",
       "    <tr>\n",
       "      <th>0</th>\n",
       "      <td>37404348</td>\n",
       "      <td>Casual Stock Replenisher</td>\n",
       "      <td>Aldi Stores</td>\n",
       "      <td>2018-10-07T00:00:00.000Z</td>\n",
       "      <td>Sydney</td>\n",
       "      <td>North West &amp; Hills District</td>\n",
       "      <td>Retail &amp; Consumer Products</td>\n",
       "      <td>Retail Assistants</td>\n",
       "      <td>Our Casual Stock Replenishers pride themselves...</td>\n",
       "      <td>NaN</td>\n",
       "      <td>0</td>\n",
       "      <td>30</td>\n",
       "      <td>NaN</td>\n",
       "    </tr>\n",
       "    <tr>\n",
       "      <th>1</th>\n",
       "      <td>37404337</td>\n",
       "      <td>Casual Stock Replenisher</td>\n",
       "      <td>Aldi Stores</td>\n",
       "      <td>2018-10-07T00:00:00.000Z</td>\n",
       "      <td>Richmond &amp; Hawkesbury</td>\n",
       "      <td>NaN</td>\n",
       "      <td>Retail &amp; Consumer Products</td>\n",
       "      <td>Retail Assistants</td>\n",
       "      <td>Our Casual Stock Replenishers pride themselves...</td>\n",
       "      <td>NaN</td>\n",
       "      <td>0</td>\n",
       "      <td>30</td>\n",
       "      <td>NaN</td>\n",
       "    </tr>\n",
       "    <tr>\n",
       "      <th>2</th>\n",
       "      <td>37404356</td>\n",
       "      <td>RETAIL SALES SUPERSTARS and STYLISTS Wanted - ...</td>\n",
       "      <td>LB Creative Pty Ltd</td>\n",
       "      <td>2018-10-07T00:00:00.000Z</td>\n",
       "      <td>Brisbane</td>\n",
       "      <td>CBD &amp; Inner Suburbs</td>\n",
       "      <td>Retail &amp; Consumer Products</td>\n",
       "      <td>Retail Assistants</td>\n",
       "      <td>BRAND NEW FLAGSHIP STORE OPENING - SUNSHINE PLAZA</td>\n",
       "      <td>NaN</td>\n",
       "      <td>0</td>\n",
       "      <td>30</td>\n",
       "      <td>NaN</td>\n",
       "    </tr>\n",
       "  </tbody>\n",
       "</table>\n",
       "</div>"
      ],
      "text/plain": [
       "         Id                                              Title  \\\n",
       "0  37404348                           Casual Stock Replenisher   \n",
       "1  37404337                           Casual Stock Replenisher   \n",
       "2  37404356  RETAIL SALES SUPERSTARS and STYLISTS Wanted - ...   \n",
       "\n",
       "               Company                      Date               Location  \\\n",
       "0          Aldi Stores  2018-10-07T00:00:00.000Z                 Sydney   \n",
       "1          Aldi Stores  2018-10-07T00:00:00.000Z  Richmond & Hawkesbury   \n",
       "2  LB Creative Pty Ltd  2018-10-07T00:00:00.000Z               Brisbane   \n",
       "\n",
       "                          Area              Classification  SubClassification  \\\n",
       "0  North West & Hills District  Retail & Consumer Products  Retail Assistants   \n",
       "1                          NaN  Retail & Consumer Products  Retail Assistants   \n",
       "2          CBD & Inner Suburbs  Retail & Consumer Products  Retail Assistants   \n",
       "\n",
       "                                         Requirement FullDescription  \\\n",
       "0  Our Casual Stock Replenishers pride themselves...             NaN   \n",
       "1  Our Casual Stock Replenishers pride themselves...             NaN   \n",
       "2  BRAND NEW FLAGSHIP STORE OPENING - SUNSHINE PLAZA             NaN   \n",
       "\n",
       "   LowestSalary  HighestSalary JobType  \n",
       "0             0             30     NaN  \n",
       "1             0             30     NaN  \n",
       "2             0             30     NaN  "
      ]
     },
     "metadata": {},
     "output_type": "display_data"
    },
    {
     "name": "stdout",
     "output_type": "stream",
     "text": [
      "<class 'pandas.core.frame.DataFrame'>\n",
      "RangeIndex: 318477 entries, 0 to 318476\n",
      "Data columns (total 13 columns):\n",
      " #   Column             Non-Null Count   Dtype \n",
      "---  ------             --------------   ----- \n",
      " 0   Id                 318477 non-null  object\n",
      " 1   Title              318477 non-null  object\n",
      " 2   Company            306473 non-null  object\n",
      " 3   Date               318477 non-null  object\n",
      " 4   Location           197229 non-null  object\n",
      " 5   Area               122658 non-null  object\n",
      " 6   Classification     197229 non-null  object\n",
      " 7   SubClassification  197229 non-null  object\n",
      " 8   Requirement        318470 non-null  object\n",
      " 9   FullDescription    302302 non-null  object\n",
      " 10  LowestSalary       318477 non-null  int64 \n",
      " 11  HighestSalary      318477 non-null  int64 \n",
      " 12  JobType            302379 non-null  object\n",
      "dtypes: int64(2), object(11)\n",
      "memory usage: 31.6+ MB\n",
      "\n",
      "Na values:\n",
      "Id                        0\n",
      "Title                     0\n",
      "Company               12004\n",
      "Date                      0\n",
      "Location             121248\n",
      "Area                 195819\n",
      "Classification       121248\n",
      "SubClassification    121248\n",
      "Requirement               7\n",
      "FullDescription       16175\n",
      "LowestSalary              0\n",
      "HighestSalary             0\n",
      "JobType               16098\n",
      "dtype: int64\n",
      "\n",
      "Duplicated rows: 0\n"
     ]
    }
   ],
   "source": [
    "#check that data was properly loaded and get some initial information about the data\n",
    "display(df.head(3))\n",
    "df.info()\n",
    "print('\\nNa values:')\n",
    "print(df.isna().sum())\n",
    "print('\\nDuplicated rows:', df.duplicated().sum())"
   ]
  },
  {
   "cell_type": "code",
   "execution_count": 12,
   "id": "dd349735",
   "metadata": {},
   "outputs": [
    {
     "name": "stdout",
     "output_type": "stream",
     "text": [
      "Duplicates before: 8607\n",
      "(318477, 13)\n",
      "\n",
      "Duplicates after: 0\n",
      "(309870, 13)\n"
     ]
    }
   ],
   "source": [
    "# remove duplicates\n",
    "print('Duplicates before:',df.drop(columns=['Id']).duplicated().sum())\n",
    "print(df.shape)\n",
    "df.drop_duplicates(subset=df.columns.difference(['Id']), inplace=True)\n",
    "print('\\nDuplicates after:', df.drop(columns=['Id']).duplicated().sum())\n",
    "print(df.shape)"
   ]
  },
  {
   "cell_type": "markdown",
   "id": "4ffb7f51",
   "metadata": {
    "id": "4ffb7f51"
   },
   "source": [
    "<h2>Part 1 – Data Preparation and Preprocessing. [15 points]</h2>"
   ]
  },
  {
   "cell_type": "markdown",
   "id": "7074a99a",
   "metadata": {
    "id": "7074a99a"
   },
   "source": [
    "<h3>1. Describe the dataset. (8 points)</h3>"
   ]
  },
  {
   "cell_type": "markdown",
   "id": "e5ea0e04",
   "metadata": {
    "id": "e5ea0e04"
   },
   "source": [
    "<ul>\n",
    "    <li>Describe the dataset (e.g.: type of column, value range). (1 point) </li>\n",
    "    <li>How many records are there in the dataset? (1 point) </li>\n",
    "    <li>Which period does it cover? How many different dates have job postings? (1 point) </li>\n",
    "    <li>How many locations does the dataset have? Which location has the most job postings? (1 point) </li>\n",
    "    <li>How many job sectors(job classifications) are there in the dataset? List the name of each sector and its’ total of job postings. (1 point) </li>\n",
    "    <li>Choose your favorite job sector (e.g. Information & Communication Technology), how many sub-sectors are there in that sector? List the name of each sub-sector and its’ job posting number. (1 point) </li>\n",
    "    <li>List the salary ranges and their total of job postings. (1 point) </li>\n",
    "    <li>List the job types. In each job type, what are the lowest salary and highest salary? (1 point)</li>\n",
    "</ul>"
   ]
  },
  {
   "cell_type": "code",
   "execution_count": null,
   "id": "e3fc27ce",
   "metadata": {
    "id": "e3fc27ce"
   },
   "outputs": [],
   "source": [
    "#Ben test test"
   ]
  },
  {
   "cell_type": "markdown",
   "id": "07f4e959",
   "metadata": {
    "id": "07f4e959"
   },
   "source": [
    "<h3>2. Normalize and clean data. (7 points)</h3>"
   ]
  },
  {
   "cell_type": "markdown",
   "id": "d1e8f8da",
   "metadata": {
    "id": "d1e8f8da"
   },
   "source": [
    "<ul>\n",
    "    <li>The salaries are kept in the dataset as “HighestSalary” and “LowestSalary”. You should calculate the “AverageSalary” for each job. (1 point)</li>\n",
    "    <li>The raw dataset values of the \"Id\" column had inconsistencies in their representation. The Id values should have 8 number long integers only. Write code to remove unnecessary characters. (1 point)</li>\n",
    "    <li>The \"Date\" column is represented in a format that contained both date and time information. However, the time is not correct and should be removed. (1 point)</li>\n",
    "    <li>Change type of “Id” column to numeric and change type of “Date” column to DateTime. (1 point) </li>\n",
    "</ul>"
   ]
  },
  {
   "cell_type": "code",
   "execution_count": null,
   "id": "89146a02",
   "metadata": {
    "id": "89146a02"
   },
   "outputs": [],
   "source": [
    "#Julius"
   ]
  },
  {
   "cell_type": "code",
   "execution_count": 13,
   "id": "pWsD7pYmMOhk",
   "metadata": {
    "id": "pWsD7pYmMOhk"
   },
   "outputs": [
    {
     "data": {
      "text/html": [
       "<div>\n",
       "<style scoped>\n",
       "    .dataframe tbody tr th:only-of-type {\n",
       "        vertical-align: middle;\n",
       "    }\n",
       "\n",
       "    .dataframe tbody tr th {\n",
       "        vertical-align: top;\n",
       "    }\n",
       "\n",
       "    .dataframe thead th {\n",
       "        text-align: right;\n",
       "    }\n",
       "</style>\n",
       "<table border=\"1\" class=\"dataframe\">\n",
       "  <thead>\n",
       "    <tr style=\"text-align: right;\">\n",
       "      <th></th>\n",
       "      <th>Id</th>\n",
       "      <th>Title</th>\n",
       "      <th>Company</th>\n",
       "      <th>Date</th>\n",
       "      <th>Location</th>\n",
       "      <th>Area</th>\n",
       "      <th>Classification</th>\n",
       "      <th>SubClassification</th>\n",
       "      <th>Requirement</th>\n",
       "      <th>FullDescription</th>\n",
       "      <th>LowestSalary</th>\n",
       "      <th>HighestSalary</th>\n",
       "      <th>JobType</th>\n",
       "      <th>AverageSalary</th>\n",
       "    </tr>\n",
       "  </thead>\n",
       "  <tbody>\n",
       "    <tr>\n",
       "      <th>0</th>\n",
       "      <td>37404348</td>\n",
       "      <td>Casual Stock Replenisher</td>\n",
       "      <td>Aldi Stores</td>\n",
       "      <td>2018-10-07T00:00:00.000Z</td>\n",
       "      <td>Sydney</td>\n",
       "      <td>North West &amp; Hills District</td>\n",
       "      <td>Retail &amp; Consumer Products</td>\n",
       "      <td>Retail Assistants</td>\n",
       "      <td>Our Casual Stock Replenishers pride themselves...</td>\n",
       "      <td>NaN</td>\n",
       "      <td>0</td>\n",
       "      <td>30</td>\n",
       "      <td>NaN</td>\n",
       "      <td>15.0</td>\n",
       "    </tr>\n",
       "    <tr>\n",
       "      <th>1</th>\n",
       "      <td>37404337</td>\n",
       "      <td>Casual Stock Replenisher</td>\n",
       "      <td>Aldi Stores</td>\n",
       "      <td>2018-10-07T00:00:00.000Z</td>\n",
       "      <td>Richmond &amp; Hawkesbury</td>\n",
       "      <td>NaN</td>\n",
       "      <td>Retail &amp; Consumer Products</td>\n",
       "      <td>Retail Assistants</td>\n",
       "      <td>Our Casual Stock Replenishers pride themselves...</td>\n",
       "      <td>NaN</td>\n",
       "      <td>0</td>\n",
       "      <td>30</td>\n",
       "      <td>NaN</td>\n",
       "      <td>15.0</td>\n",
       "    </tr>\n",
       "    <tr>\n",
       "      <th>2</th>\n",
       "      <td>37404356</td>\n",
       "      <td>RETAIL SALES SUPERSTARS and STYLISTS Wanted - ...</td>\n",
       "      <td>LB Creative Pty Ltd</td>\n",
       "      <td>2018-10-07T00:00:00.000Z</td>\n",
       "      <td>Brisbane</td>\n",
       "      <td>CBD &amp; Inner Suburbs</td>\n",
       "      <td>Retail &amp; Consumer Products</td>\n",
       "      <td>Retail Assistants</td>\n",
       "      <td>BRAND NEW FLAGSHIP STORE OPENING - SUNSHINE PLAZA</td>\n",
       "      <td>NaN</td>\n",
       "      <td>0</td>\n",
       "      <td>30</td>\n",
       "      <td>NaN</td>\n",
       "      <td>15.0</td>\n",
       "    </tr>\n",
       "  </tbody>\n",
       "</table>\n",
       "</div>"
      ],
      "text/plain": [
       "         Id                                              Title  \\\n",
       "0  37404348                           Casual Stock Replenisher   \n",
       "1  37404337                           Casual Stock Replenisher   \n",
       "2  37404356  RETAIL SALES SUPERSTARS and STYLISTS Wanted - ...   \n",
       "\n",
       "               Company                      Date               Location  \\\n",
       "0          Aldi Stores  2018-10-07T00:00:00.000Z                 Sydney   \n",
       "1          Aldi Stores  2018-10-07T00:00:00.000Z  Richmond & Hawkesbury   \n",
       "2  LB Creative Pty Ltd  2018-10-07T00:00:00.000Z               Brisbane   \n",
       "\n",
       "                          Area              Classification  SubClassification  \\\n",
       "0  North West & Hills District  Retail & Consumer Products  Retail Assistants   \n",
       "1                          NaN  Retail & Consumer Products  Retail Assistants   \n",
       "2          CBD & Inner Suburbs  Retail & Consumer Products  Retail Assistants   \n",
       "\n",
       "                                         Requirement FullDescription  \\\n",
       "0  Our Casual Stock Replenishers pride themselves...             NaN   \n",
       "1  Our Casual Stock Replenishers pride themselves...             NaN   \n",
       "2  BRAND NEW FLAGSHIP STORE OPENING - SUNSHINE PLAZA             NaN   \n",
       "\n",
       "   LowestSalary  HighestSalary JobType  AverageSalary  \n",
       "0             0             30     NaN           15.0  \n",
       "1             0             30     NaN           15.0  \n",
       "2             0             30     NaN           15.0  "
      ]
     },
     "execution_count": 13,
     "metadata": {},
     "output_type": "execute_result"
    }
   ],
   "source": [
    "# 1.\n",
    "df['AverageSalary'] = (df['HighestSalary'] + df['LowestSalary']) / 2\n",
    "df.head(3)"
   ]
  },
  {
   "cell_type": "code",
   "execution_count": 15,
   "id": "_oWV1jepE_Ka",
   "metadata": {
    "id": "_oWV1jepE_Ka"
   },
   "outputs": [
    {
     "name": "stdout",
     "output_type": "stream",
     "text": [
      "Before:\n",
      "count       309870\n",
      "unique      295902\n",
      "top       37936524\n",
      "freq             4\n",
      "Name: Id, dtype: object\n"
     ]
    },
    {
     "data": {
      "text/html": [
       "<div>\n",
       "<style scoped>\n",
       "    .dataframe tbody tr th:only-of-type {\n",
       "        vertical-align: middle;\n",
       "    }\n",
       "\n",
       "    .dataframe tbody tr th {\n",
       "        vertical-align: top;\n",
       "    }\n",
       "\n",
       "    .dataframe thead th {\n",
       "        text-align: right;\n",
       "    }\n",
       "</style>\n",
       "<table border=\"1\" class=\"dataframe\">\n",
       "  <thead>\n",
       "    <tr style=\"text-align: right;\">\n",
       "      <th></th>\n",
       "      <th>Id</th>\n",
       "      <th>Title</th>\n",
       "      <th>Company</th>\n",
       "      <th>Date</th>\n",
       "      <th>Location</th>\n",
       "      <th>Area</th>\n",
       "      <th>Classification</th>\n",
       "      <th>SubClassification</th>\n",
       "      <th>Requirement</th>\n",
       "      <th>FullDescription</th>\n",
       "      <th>LowestSalary</th>\n",
       "      <th>HighestSalary</th>\n",
       "      <th>JobType</th>\n",
       "      <th>AverageSalary</th>\n",
       "    </tr>\n",
       "  </thead>\n",
       "  <tbody>\n",
       "  </tbody>\n",
       "</table>\n",
       "</div>"
      ],
      "text/plain": [
       "Empty DataFrame\n",
       "Columns: [Id, Title, Company, Date, Location, Area, Classification, SubClassification, Requirement, FullDescription, LowestSalary, HighestSalary, JobType, AverageSalary]\n",
       "Index: []"
      ]
     },
     "metadata": {},
     "output_type": "display_data"
    },
    {
     "name": "stdout",
     "output_type": "stream",
     "text": [
      "Shape before slicing:  (0, 14)\n",
      "Shape after slicing:  (0, 14) \n",
      "\n",
      "After:\n",
      "count       309870\n",
      "unique      295902\n",
      "top       37936524\n",
      "freq             4\n",
      "Name: Id, dtype: object \n",
      "\n",
      "Duplicated rows now: 13968\n"
     ]
    }
   ],
   "source": [
    "# 2.\n",
    "import re\n",
    "\n",
    "print('Before:')\n",
    "print(df['Id'].describe())\n",
    "\n",
    "# single out only rows with ids not consisting of exactly 8 digits\n",
    "irregularIdsDf = df[df['Id'].str.match(r'^(?!^\\d{8}$).*$', na=False)] \n",
    "display(irregularIdsDf.head(3)) # see what the irregular ids look like\n",
    "print('Shape before slicing: ', irregularIdsDf.shape) # see how many rows have irregular ids\n",
    "\n",
    "df['Id'] = df['Id'].astype(str) # explicitly set type of Id column as string so each id is iterable\n",
    "df['Id'] = [x[:8] for x in df['Id']] # reset the id to the first 8 characters of the id\n",
    "\n",
    "# recheck to see if there are still some irregular ids\n",
    "irregularIdsDf = df[df['Id'].str.match(r'^(?!^\\d{8}$).*$', na=False)] \n",
    "print('Shape after slicing: ', irregularIdsDf.shape, '\\n')\n",
    "\n",
    "print('After:')\n",
    "print(df['Id'].describe(), '\\n')\n",
    "print('Duplicated rows now:', df.duplicated(subset=['Id']).sum())"
   ]
  },
  {
   "cell_type": "code",
   "execution_count": 18,
   "id": "c3b4c474",
   "metadata": {},
   "outputs": [
    {
     "name": "stdout",
     "output_type": "stream",
     "text": [
      "Duplicated rows now: 0\n"
     ]
    },
    {
     "data": {
      "text/plain": [
       "(295902, 14)"
      ]
     },
     "execution_count": 18,
     "metadata": {},
     "output_type": "execute_result"
    }
   ],
   "source": [
    "# drop duplicated rows\n",
    "df.drop_duplicates(subset=['Id'], inplace=True)\n",
    "print('Duplicated rows now:', df.duplicated(subset=['Id']).sum())\n",
    "df.shape"
   ]
  },
  {
   "cell_type": "code",
   "execution_count": 19,
   "id": "o81VV8hsFdlB",
   "metadata": {
    "id": "o81VV8hsFdlB"
   },
   "outputs": [
    {
     "name": "stdout",
     "output_type": "stream",
     "text": [
      "Before:\n",
      "count                       295902\n",
      "unique                         163\n",
      "top       2018-10-17T00:00:00.000Z\n",
      "freq                         12992\n",
      "Name: Date, dtype: object\n"
     ]
    },
    {
     "data": {
      "text/html": [
       "<div>\n",
       "<style scoped>\n",
       "    .dataframe tbody tr th:only-of-type {\n",
       "        vertical-align: middle;\n",
       "    }\n",
       "\n",
       "    .dataframe tbody tr th {\n",
       "        vertical-align: top;\n",
       "    }\n",
       "\n",
       "    .dataframe thead th {\n",
       "        text-align: right;\n",
       "    }\n",
       "</style>\n",
       "<table border=\"1\" class=\"dataframe\">\n",
       "  <thead>\n",
       "    <tr style=\"text-align: right;\">\n",
       "      <th></th>\n",
       "      <th>Id</th>\n",
       "      <th>Title</th>\n",
       "      <th>Company</th>\n",
       "      <th>Date</th>\n",
       "      <th>Location</th>\n",
       "      <th>Area</th>\n",
       "      <th>Classification</th>\n",
       "      <th>SubClassification</th>\n",
       "      <th>Requirement</th>\n",
       "      <th>FullDescription</th>\n",
       "      <th>LowestSalary</th>\n",
       "      <th>HighestSalary</th>\n",
       "      <th>JobType</th>\n",
       "      <th>AverageSalary</th>\n",
       "    </tr>\n",
       "  </thead>\n",
       "  <tbody>\n",
       "    <tr>\n",
       "      <th>0</th>\n",
       "      <td>37404348</td>\n",
       "      <td>Casual Stock Replenisher</td>\n",
       "      <td>Aldi Stores</td>\n",
       "      <td>2018-10-07T00:00:00.000Z</td>\n",
       "      <td>Sydney</td>\n",
       "      <td>North West &amp; Hills District</td>\n",
       "      <td>Retail &amp; Consumer Products</td>\n",
       "      <td>Retail Assistants</td>\n",
       "      <td>Our Casual Stock Replenishers pride themselves...</td>\n",
       "      <td>NaN</td>\n",
       "      <td>0</td>\n",
       "      <td>30</td>\n",
       "      <td>NaN</td>\n",
       "      <td>15.0</td>\n",
       "    </tr>\n",
       "  </tbody>\n",
       "</table>\n",
       "</div>"
      ],
      "text/plain": [
       "         Id                     Title      Company                      Date  \\\n",
       "0  37404348  Casual Stock Replenisher  Aldi Stores  2018-10-07T00:00:00.000Z   \n",
       "\n",
       "  Location                         Area              Classification  \\\n",
       "0   Sydney  North West & Hills District  Retail & Consumer Products   \n",
       "\n",
       "   SubClassification                                        Requirement  \\\n",
       "0  Retail Assistants  Our Casual Stock Replenishers pride themselves...   \n",
       "\n",
       "  FullDescription  LowestSalary  HighestSalary JobType  AverageSalary  \n",
       "0             NaN             0             30     NaN           15.0  "
      ]
     },
     "metadata": {},
     "output_type": "display_data"
    },
    {
     "name": "stdout",
     "output_type": "stream",
     "text": [
      "After:\n",
      "count         295902\n",
      "unique           163\n",
      "top       2018-10-17\n",
      "freq           12992\n",
      "Name: Date, dtype: object\n"
     ]
    },
    {
     "data": {
      "text/html": [
       "<div>\n",
       "<style scoped>\n",
       "    .dataframe tbody tr th:only-of-type {\n",
       "        vertical-align: middle;\n",
       "    }\n",
       "\n",
       "    .dataframe tbody tr th {\n",
       "        vertical-align: top;\n",
       "    }\n",
       "\n",
       "    .dataframe thead th {\n",
       "        text-align: right;\n",
       "    }\n",
       "</style>\n",
       "<table border=\"1\" class=\"dataframe\">\n",
       "  <thead>\n",
       "    <tr style=\"text-align: right;\">\n",
       "      <th></th>\n",
       "      <th>Id</th>\n",
       "      <th>Title</th>\n",
       "      <th>Company</th>\n",
       "      <th>Date</th>\n",
       "      <th>Location</th>\n",
       "      <th>Area</th>\n",
       "      <th>Classification</th>\n",
       "      <th>SubClassification</th>\n",
       "      <th>Requirement</th>\n",
       "      <th>FullDescription</th>\n",
       "      <th>LowestSalary</th>\n",
       "      <th>HighestSalary</th>\n",
       "      <th>JobType</th>\n",
       "      <th>AverageSalary</th>\n",
       "    </tr>\n",
       "  </thead>\n",
       "  <tbody>\n",
       "    <tr>\n",
       "      <th>0</th>\n",
       "      <td>37404348</td>\n",
       "      <td>Casual Stock Replenisher</td>\n",
       "      <td>Aldi Stores</td>\n",
       "      <td>2018-10-07</td>\n",
       "      <td>Sydney</td>\n",
       "      <td>North West &amp; Hills District</td>\n",
       "      <td>Retail &amp; Consumer Products</td>\n",
       "      <td>Retail Assistants</td>\n",
       "      <td>Our Casual Stock Replenishers pride themselves...</td>\n",
       "      <td>NaN</td>\n",
       "      <td>0</td>\n",
       "      <td>30</td>\n",
       "      <td>NaN</td>\n",
       "      <td>15.0</td>\n",
       "    </tr>\n",
       "  </tbody>\n",
       "</table>\n",
       "</div>"
      ],
      "text/plain": [
       "         Id                     Title      Company        Date Location  \\\n",
       "0  37404348  Casual Stock Replenisher  Aldi Stores  2018-10-07   Sydney   \n",
       "\n",
       "                          Area              Classification  SubClassification  \\\n",
       "0  North West & Hills District  Retail & Consumer Products  Retail Assistants   \n",
       "\n",
       "                                         Requirement FullDescription  \\\n",
       "0  Our Casual Stock Replenishers pride themselves...             NaN   \n",
       "\n",
       "   LowestSalary  HighestSalary JobType  AverageSalary  \n",
       "0             0             30     NaN           15.0  "
      ]
     },
     "metadata": {},
     "output_type": "display_data"
    }
   ],
   "source": [
    "# 3.\n",
    "print('Before:')\n",
    "print(df['Date'].describe())\n",
    "display(df.head(1))\n",
    "\n",
    "df['Date'] = pd.to_datetime(df['Date']) # convert to datetime\n",
    "df['Date'] = df['Date'].dt.date # format to only date\n",
    "\n",
    "print('After:')\n",
    "print(df['Date'].describe())\n",
    "display(df.head(1))"
   ]
  },
  {
   "cell_type": "code",
   "execution_count": 20,
   "id": "MUaiCTLVFeXx",
   "metadata": {
    "id": "MUaiCTLVFeXx"
   },
   "outputs": [
    {
     "name": "stdout",
     "output_type": "stream",
     "text": [
      "Before:\n",
      "Id                    object\n",
      "Title                 object\n",
      "Company               object\n",
      "Date                  object\n",
      "Location              object\n",
      "Area                  object\n",
      "Classification        object\n",
      "SubClassification     object\n",
      "Requirement           object\n",
      "FullDescription       object\n",
      "LowestSalary           int64\n",
      "HighestSalary          int64\n",
      "JobType               object\n",
      "AverageSalary        float64\n",
      "dtype: object \n",
      "\n",
      "After:\n",
      "Id                     int64\n",
      "Title                 object\n",
      "Company               object\n",
      "Date                  object\n",
      "Location              object\n",
      "Area                  object\n",
      "Classification        object\n",
      "SubClassification     object\n",
      "Requirement           object\n",
      "FullDescription       object\n",
      "LowestSalary           int64\n",
      "HighestSalary          int64\n",
      "JobType               object\n",
      "AverageSalary        float64\n",
      "dtype: object\n"
     ]
    }
   ],
   "source": [
    "# 4.\n",
    "print('Before:')\n",
    "print(df.dtypes, '\\n')\n",
    "df['Id'] = pd.to_numeric(df['Id'])\n",
    "print('After:')\n",
    "print(df.dtypes)"
   ]
  },
  {
   "cell_type": "markdown",
   "id": "9016e0fe",
   "metadata": {
    "id": "9016e0fe"
   },
   "source": [
    "<h2>Part 2 – Data Understanding. [5 points] </h2>"
   ]
  },
  {
   "cell_type": "markdown",
   "id": "b1ac2cde",
   "metadata": {
    "id": "b1ac2cde"
   },
   "source": [
    "<ul>\n",
    "    <li>Get the salary ranges using “AverageSalary”, the total jobs of each range and display them in the bar chart. (1 point)</li>\n",
    "    <li>Display the list of job types and the number of jobs of each type using pie chart. (1 point)</li>\n",
    "    <li>Display the list of job sectors and the number of jobs of each type using horizontal bar chart. (1 point)</li>\n",
    "    <li>Choose your favorite location. Visualize the market share of that location in pie chart. (1 point)</li>\n",
    "    <li>Can you find the salary distribution for the top 30 cities for the number of job postings? Visualize them in the boxplot chart. (1 point)</li>\n",
    "</ul>"
   ]
  },
  {
   "cell_type": "code",
   "execution_count": null,
   "id": "b49c6185",
   "metadata": {
    "id": "b49c6185"
   },
   "outputs": [],
   "source": [
    "#1-3 -> Julius\n",
    "#4-5 -> Ben"
   ]
  },
  {
   "cell_type": "code",
   "execution_count": 21,
   "id": "49mSTRSqINSz",
   "metadata": {
    "id": "49mSTRSqINSz"
   },
   "outputs": [
    {
     "data": {
      "text/html": [
       "<div>\n",
       "<style scoped>\n",
       "    .dataframe tbody tr th:only-of-type {\n",
       "        vertical-align: middle;\n",
       "    }\n",
       "\n",
       "    .dataframe tbody tr th {\n",
       "        vertical-align: top;\n",
       "    }\n",
       "\n",
       "    .dataframe thead th {\n",
       "        text-align: right;\n",
       "    }\n",
       "</style>\n",
       "<table border=\"1\" class=\"dataframe\">\n",
       "  <thead>\n",
       "    <tr style=\"text-align: right;\">\n",
       "      <th></th>\n",
       "      <th>AverageSalary</th>\n",
       "      <th>Count</th>\n",
       "    </tr>\n",
       "  </thead>\n",
       "  <tbody>\n",
       "    <tr>\n",
       "      <th>0</th>\n",
       "      <td>15.0</td>\n",
       "      <td>61031</td>\n",
       "    </tr>\n",
       "    <tr>\n",
       "      <th>1</th>\n",
       "      <td>45.0</td>\n",
       "      <td>32290</td>\n",
       "    </tr>\n",
       "    <tr>\n",
       "      <th>2</th>\n",
       "      <td>75.0</td>\n",
       "      <td>26029</td>\n",
       "    </tr>\n",
       "    <tr>\n",
       "      <th>3</th>\n",
       "      <td>65.0</td>\n",
       "      <td>25624</td>\n",
       "    </tr>\n",
       "    <tr>\n",
       "      <th>4</th>\n",
       "      <td>110.0</td>\n",
       "      <td>25521</td>\n",
       "    </tr>\n",
       "    <tr>\n",
       "      <th>5</th>\n",
       "      <td>55.0</td>\n",
       "      <td>24744</td>\n",
       "    </tr>\n",
       "    <tr>\n",
       "      <th>6</th>\n",
       "      <td>175.0</td>\n",
       "      <td>23298</td>\n",
       "    </tr>\n",
       "    <tr>\n",
       "      <th>7</th>\n",
       "      <td>90.0</td>\n",
       "      <td>23098</td>\n",
       "    </tr>\n",
       "    <tr>\n",
       "      <th>8</th>\n",
       "      <td>35.0</td>\n",
       "      <td>22877</td>\n",
       "    </tr>\n",
       "    <tr>\n",
       "      <th>9</th>\n",
       "      <td>135.0</td>\n",
       "      <td>21494</td>\n",
       "    </tr>\n",
       "    <tr>\n",
       "      <th>10</th>\n",
       "      <td>599.5</td>\n",
       "      <td>9896</td>\n",
       "    </tr>\n",
       "  </tbody>\n",
       "</table>\n",
       "</div>"
      ],
      "text/plain": [
       "    AverageSalary  Count\n",
       "0            15.0  61031\n",
       "1            45.0  32290\n",
       "2            75.0  26029\n",
       "3            65.0  25624\n",
       "4           110.0  25521\n",
       "5            55.0  24744\n",
       "6           175.0  23298\n",
       "7            90.0  23098\n",
       "8            35.0  22877\n",
       "9           135.0  21494\n",
       "10          599.5   9896"
      ]
     },
     "metadata": {},
     "output_type": "display_data"
    },
    {
     "data": {
      "text/plain": [
       "Text(0, 0.5, 'Count')"
      ]
     },
     "execution_count": 21,
     "metadata": {},
     "output_type": "execute_result"
    },
    {
     "data": {
      "image/png": "[encoded data removed]",
      "text/plain": [
       "<Figure size 432x288 with 1 Axes>"
      ]
     },
     "metadata": {
      "needs_background": "light"
     },
     "output_type": "display_data"
    }
   ],
   "source": [
    "# 1.\n",
    "# create a new dataframe with the occurances of each average salary value\n",
    "salaryDistribution = df['AverageSalary'].value_counts().rename_axis('AverageSalary').reset_index(name='Count')\n",
    "display(salaryDistribution)\n",
    "\n",
    "salaryDistChart = sns.barplot(x=\"AverageSalary\", y=\"Count\", data=salaryDistribution)\n",
    "salaryDistChart.set_xticklabels(salaryDistChart.get_xticklabels(), rotation=45)\n",
    "plt.title('Number of listings per average salary')\n",
    "plt.xlabel('Average salary (x 1000 $/year)')\n",
    "plt.ylabel('Count')"
   ]
  },
  {
   "cell_type": "code",
   "execution_count": 31,
   "id": "Jz8o6ijuINX4",
   "metadata": {
    "id": "Jz8o6ijuINX4"
   },
   "outputs": [
    {
     "name": "stdout",
     "output_type": "stream",
     "text": [
      "List of unique job types:\n",
      "[nan 'Full Time' 'Contract/Temp' 'Part Time' 'Casual/Vacation']\n"
     ]
    },
    {
     "data": {
      "text/html": [
       "<div>\n",
       "<style scoped>\n",
       "    .dataframe tbody tr th:only-of-type {\n",
       "        vertical-align: middle;\n",
       "    }\n",
       "\n",
       "    .dataframe tbody tr th {\n",
       "        vertical-align: top;\n",
       "    }\n",
       "\n",
       "    .dataframe thead th {\n",
       "        text-align: right;\n",
       "    }\n",
       "</style>\n",
       "<table border=\"1\" class=\"dataframe\">\n",
       "  <thead>\n",
       "    <tr style=\"text-align: right;\">\n",
       "      <th></th>\n",
       "      <th>JobType</th>\n",
       "      <th>Count</th>\n",
       "    </tr>\n",
       "  </thead>\n",
       "  <tbody>\n",
       "    <tr>\n",
       "      <th>0</th>\n",
       "      <td>Full Time</td>\n",
       "      <td>186684</td>\n",
       "    </tr>\n",
       "    <tr>\n",
       "      <th>1</th>\n",
       "      <td>Contract/Temp</td>\n",
       "      <td>50348</td>\n",
       "    </tr>\n",
       "    <tr>\n",
       "      <th>2</th>\n",
       "      <td>Casual/Vacation</td>\n",
       "      <td>23921</td>\n",
       "    </tr>\n",
       "    <tr>\n",
       "      <th>3</th>\n",
       "      <td>Part Time</td>\n",
       "      <td>20447</td>\n",
       "    </tr>\n",
       "  </tbody>\n",
       "</table>\n",
       "</div>"
      ],
      "text/plain": [
       "           JobType   Count\n",
       "0        Full Time  186684\n",
       "1    Contract/Temp   50348\n",
       "2  Casual/Vacation   23921\n",
       "3        Part Time   20447"
      ]
     },
     "metadata": {},
     "output_type": "display_data"
    },
    {
     "data": {
      "text/plain": [
       "Text(0.5, 1.0, 'Listings by job type')"
      ]
     },
     "execution_count": 31,
     "metadata": {},
     "output_type": "execute_result"
    },
    {
     "data": {
      "image/png": "[encoded data removed]",
      "text/plain": [
       "<Figure size 360x360 with 1 Axes>"
      ]
     },
     "metadata": {},
     "output_type": "display_data"
    }
   ],
   "source": [
    "# 2.\n",
    "print('List of unique job types:')\n",
    "print(df['JobType'].unique())\n",
    "\n",
    "typeDistribution = df['JobType'].value_counts().rename_axis('JobType').reset_index(name='Count')\n",
    "display(typeDistribution)\n",
    "\n",
    "fig, ax = plt.subplots(figsize=(5, 5))\n",
    "\n",
    "ax.pie(typeDistribution['Count'], labels=typeDistribution['JobType'], autopct='%1.1f%%')\n",
    "plt.title('Listings by job type', size=20)"
   ]
  },
  {
   "cell_type": "code",
   "execution_count": 32,
   "id": "RgBV22XRINfY",
   "metadata": {
    "id": "RgBV22XRINfY"
   },
   "outputs": [
    {
     "name": "stdout",
     "output_type": "stream",
     "text": [
      "List of unique classifications:\n",
      "['Retail & Consumer Products' 'Call Centre & Customer Service'\n",
      " 'Hospitality & Tourism' 'Banking & Financial Services'\n",
      " 'Manufacturing, Transport & Logistics' 'Sales'\n",
      " 'Administration & Office Support' 'Trades & Services' 'Accounting'\n",
      " 'Real Estate & Property' 'Healthcare & Medical'\n",
      " 'Marketing & Communications' 'Government & Defence'\n",
      " 'Information & Communication Technology' 'Education & Training'\n",
      " 'Community Services & Development' 'Mining, Resources & Energy'\n",
      " 'Human Resources & Recruitment' 'Insurance & Superannuation'\n",
      " 'Engineering' 'CEO & General Management' 'Design & Architecture' 'Legal'\n",
      " 'Construction' 'Sport & Recreation' 'Science & Technology'\n",
      " 'Advertising, Arts & Media' 'Farming, Animals & Conservation'\n",
      " 'Self Employment' 'Consulting & Strategy' nan]\n"
     ]
    },
    {
     "data": {
      "text/html": [
       "<div>\n",
       "<style scoped>\n",
       "    .dataframe tbody tr th:only-of-type {\n",
       "        vertical-align: middle;\n",
       "    }\n",
       "\n",
       "    .dataframe tbody tr th {\n",
       "        vertical-align: top;\n",
       "    }\n",
       "\n",
       "    .dataframe thead th {\n",
       "        text-align: right;\n",
       "    }\n",
       "</style>\n",
       "<table border=\"1\" class=\"dataframe\">\n",
       "  <thead>\n",
       "    <tr style=\"text-align: right;\">\n",
       "      <th></th>\n",
       "      <th>Classification</th>\n",
       "      <th>Count</th>\n",
       "    </tr>\n",
       "  </thead>\n",
       "  <tbody>\n",
       "    <tr>\n",
       "      <th>0</th>\n",
       "      <td>Information &amp; Communication Technology</td>\n",
       "      <td>20960</td>\n",
       "    </tr>\n",
       "    <tr>\n",
       "      <th>1</th>\n",
       "      <td>Trades &amp; Services</td>\n",
       "      <td>16849</td>\n",
       "    </tr>\n",
       "    <tr>\n",
       "      <th>2</th>\n",
       "      <td>Healthcare &amp; Medical</td>\n",
       "      <td>15733</td>\n",
       "    </tr>\n",
       "    <tr>\n",
       "      <th>3</th>\n",
       "      <td>Hospitality &amp; Tourism</td>\n",
       "      <td>14346</td>\n",
       "    </tr>\n",
       "    <tr>\n",
       "      <th>4</th>\n",
       "      <td>Manufacturing, Transport &amp; Logistics</td>\n",
       "      <td>11541</td>\n",
       "    </tr>\n",
       "    <tr>\n",
       "      <th>5</th>\n",
       "      <td>Administration &amp; Office Support</td>\n",
       "      <td>9440</td>\n",
       "    </tr>\n",
       "    <tr>\n",
       "      <th>6</th>\n",
       "      <td>Accounting</td>\n",
       "      <td>8682</td>\n",
       "    </tr>\n",
       "    <tr>\n",
       "      <th>7</th>\n",
       "      <td>Education &amp; Training</td>\n",
       "      <td>8496</td>\n",
       "    </tr>\n",
       "    <tr>\n",
       "      <th>8</th>\n",
       "      <td>Construction</td>\n",
       "      <td>7718</td>\n",
       "    </tr>\n",
       "    <tr>\n",
       "      <th>9</th>\n",
       "      <td>Sales</td>\n",
       "      <td>7543</td>\n",
       "    </tr>\n",
       "    <tr>\n",
       "      <th>10</th>\n",
       "      <td>Retail &amp; Consumer Products</td>\n",
       "      <td>7536</td>\n",
       "    </tr>\n",
       "    <tr>\n",
       "      <th>11</th>\n",
       "      <td>Government &amp; Defence</td>\n",
       "      <td>6878</td>\n",
       "    </tr>\n",
       "    <tr>\n",
       "      <th>12</th>\n",
       "      <td>Engineering</td>\n",
       "      <td>5896</td>\n",
       "    </tr>\n",
       "    <tr>\n",
       "      <th>13</th>\n",
       "      <td>Mining, Resources &amp; Energy</td>\n",
       "      <td>5785</td>\n",
       "    </tr>\n",
       "    <tr>\n",
       "      <th>14</th>\n",
       "      <td>Banking &amp; Financial Services</td>\n",
       "      <td>4297</td>\n",
       "    </tr>\n",
       "    <tr>\n",
       "      <th>15</th>\n",
       "      <td>Community Services &amp; Development</td>\n",
       "      <td>4204</td>\n",
       "    </tr>\n",
       "    <tr>\n",
       "      <th>16</th>\n",
       "      <td>Human Resources &amp; Recruitment</td>\n",
       "      <td>3873</td>\n",
       "    </tr>\n",
       "    <tr>\n",
       "      <th>17</th>\n",
       "      <td>Legal</td>\n",
       "      <td>3832</td>\n",
       "    </tr>\n",
       "    <tr>\n",
       "      <th>18</th>\n",
       "      <td>Marketing &amp; Communications</td>\n",
       "      <td>3715</td>\n",
       "    </tr>\n",
       "    <tr>\n",
       "      <th>19</th>\n",
       "      <td>Call Centre &amp; Customer Service</td>\n",
       "      <td>3705</td>\n",
       "    </tr>\n",
       "    <tr>\n",
       "      <th>20</th>\n",
       "      <td>Real Estate &amp; Property</td>\n",
       "      <td>3328</td>\n",
       "    </tr>\n",
       "    <tr>\n",
       "      <th>21</th>\n",
       "      <td>Design &amp; Architecture</td>\n",
       "      <td>1676</td>\n",
       "    </tr>\n",
       "    <tr>\n",
       "      <th>22</th>\n",
       "      <td>Insurance &amp; Superannuation</td>\n",
       "      <td>1371</td>\n",
       "    </tr>\n",
       "    <tr>\n",
       "      <th>23</th>\n",
       "      <td>Consulting &amp; Strategy</td>\n",
       "      <td>1129</td>\n",
       "    </tr>\n",
       "    <tr>\n",
       "      <th>24</th>\n",
       "      <td>Sport &amp; Recreation</td>\n",
       "      <td>913</td>\n",
       "    </tr>\n",
       "    <tr>\n",
       "      <th>25</th>\n",
       "      <td>Science &amp; Technology</td>\n",
       "      <td>839</td>\n",
       "    </tr>\n",
       "    <tr>\n",
       "      <th>26</th>\n",
       "      <td>Farming, Animals &amp; Conservation</td>\n",
       "      <td>820</td>\n",
       "    </tr>\n",
       "    <tr>\n",
       "      <th>27</th>\n",
       "      <td>CEO &amp; General Management</td>\n",
       "      <td>788</td>\n",
       "    </tr>\n",
       "    <tr>\n",
       "      <th>28</th>\n",
       "      <td>Advertising, Arts &amp; Media</td>\n",
       "      <td>786</td>\n",
       "    </tr>\n",
       "    <tr>\n",
       "      <th>29</th>\n",
       "      <td>Self Employment</td>\n",
       "      <td>88</td>\n",
       "    </tr>\n",
       "  </tbody>\n",
       "</table>\n",
       "</div>"
      ],
      "text/plain": [
       "                            Classification  Count\n",
       "0   Information & Communication Technology  20960\n",
       "1                        Trades & Services  16849\n",
       "2                     Healthcare & Medical  15733\n",
       "3                    Hospitality & Tourism  14346\n",
       "4     Manufacturing, Transport & Logistics  11541\n",
       "5          Administration & Office Support   9440\n",
       "6                               Accounting   8682\n",
       "7                     Education & Training   8496\n",
       "8                             Construction   7718\n",
       "9                                    Sales   7543\n",
       "10              Retail & Consumer Products   7536\n",
       "11                    Government & Defence   6878\n",
       "12                             Engineering   5896\n",
       "13              Mining, Resources & Energy   5785\n",
       "14            Banking & Financial Services   4297\n",
       "15        Community Services & Development   4204\n",
       "16           Human Resources & Recruitment   3873\n",
       "17                                   Legal   3832\n",
       "18              Marketing & Communications   3715\n",
       "19          Call Centre & Customer Service   3705\n",
       "20                  Real Estate & Property   3328\n",
       "21                   Design & Architecture   1676\n",
       "22              Insurance & Superannuation   1371\n",
       "23                   Consulting & Strategy   1129\n",
       "24                      Sport & Recreation    913\n",
       "25                    Science & Technology    839\n",
       "26         Farming, Animals & Conservation    820\n",
       "27                CEO & General Management    788\n",
       "28               Advertising, Arts & Media    786\n",
       "29                         Self Employment     88"
      ]
     },
     "metadata": {},
     "output_type": "display_data"
    },
    {
     "data": {
      "text/plain": [
       "Text(0, 0.5, 'Classification')"
      ]
     },
     "execution_count": 32,
     "metadata": {},
     "output_type": "execute_result"
    },
    {
     "data": {
      "image/png": "[encoded data removed]",
      "text/plain": [
       "<Figure size 720x720 with 1 Axes>"
      ]
     },
     "metadata": {
      "needs_background": "light"
     },
     "output_type": "display_data"
    }
   ],
   "source": [
    "# 3.\n",
    "print('List of unique classifications:')\n",
    "print(df['Classification'].unique())\n",
    "\n",
    "classificationDistribution = df['Classification'].value_counts().rename_axis('Classification').reset_index(name='Count')\n",
    "display(classificationDistribution)\n",
    "\n",
    "fig, ax = plt.subplots(figsize=(10, 10))\n",
    "\n",
    "sns.barplot(ax=ax, data=classificationDistribution, x='Count', y='Classification')\n",
    "plt.title('Number of listings per classification', size=20)\n",
    "plt.xlabel('Count', size=15)\n",
    "plt.ylabel('Classification', size=15)"
   ]
  },
  {
   "cell_type": "markdown",
   "id": "14c01e95",
   "metadata": {
    "id": "14c01e95"
   },
   "source": [
    "<h2>Part 3 – Data Analysis and Visualisation. [6 points]</h2>"
   ]
  },
  {
   "cell_type": "markdown",
   "id": "7e2b0454",
   "metadata": {
    "id": "7e2b0454"
   },
   "source": [
    "<h3>1. Analyse by comparison. (2 points)</h3>"
   ]
  },
  {
   "cell_type": "markdown",
   "id": "fd85ffff",
   "metadata": {
    "id": "fd85ffff"
   },
   "source": [
    "Choose your two favourite cities/locations. We will explore the difference between them by answering the following questions:\n",
    "<ul>\n",
    "    <li>Which city has more jobs? How many jobs each type (casual, fulltime, etc.) are there in each city? </li>\n",
    "    <li>In each city, which are top 5 job sectors? How many jobs are there in each sector? </li>\n",
    "    <li>Visualise the top 5 job sectors in pie chart for each city.* </li>\n",
    "    <li>In each city, list the job salary range with the corresponding number of jobs. Which city is more well-paid? </li>\n",
    "    <li>List top 5 companies in each city? Which sectors do they belong to? </li>\n",
    "    <li>Between 2 cities, which do you think it is better for employees. Explain your choice.*</li>\n",
    "<ul>"
   ]
  },
  {
   "cell_type": "code",
   "execution_count": null,
   "id": "e56f09da",
   "metadata": {
    "id": "e56f09da"
   },
   "outputs": [],
   "source": [
    "#1-3 -> Julius\n",
    "#4-6 -> Ben"
   ]
  },
  {
   "cell_type": "code",
   "execution_count": 33,
   "id": "36c48db7",
   "metadata": {},
   "outputs": [
    {
     "name": "stdout",
     "output_type": "stream",
     "text": [
      "Number of job listings in Brisbane: 19899\n",
      "Number of job listings in Adelaide: 6123 \n",
      "\n",
      "Brisbane has more jobs.\n"
     ]
    }
   ],
   "source": [
    "# We chose Brisbane and Adelaide\n",
    "# 1.\n",
    "brisbane = df.loc[df['Location'] == 'Brisbane'].copy()\n",
    "adelaide = df.loc[df['Location'] == 'Adelaide'].copy()\n",
    "\n",
    "print('Number of job listings in Brisbane:', brisbane.shape[0])\n",
    "print('Number of job listings in Adelaide:', adelaide.shape[0], '\\n')\n",
    "print('Brisbane has more jobs.')"
   ]
  },
  {
   "cell_type": "code",
   "execution_count": 34,
   "id": "0259061b",
   "metadata": {},
   "outputs": [
    {
     "name": "stdout",
     "output_type": "stream",
     "text": [
      "Brisbane:\n"
     ]
    },
    {
     "data": {
      "text/html": [
       "<div>\n",
       "<style scoped>\n",
       "    .dataframe tbody tr th:only-of-type {\n",
       "        vertical-align: middle;\n",
       "    }\n",
       "\n",
       "    .dataframe tbody tr th {\n",
       "        vertical-align: top;\n",
       "    }\n",
       "\n",
       "    .dataframe thead th {\n",
       "        text-align: right;\n",
       "    }\n",
       "</style>\n",
       "<table border=\"1\" class=\"dataframe\">\n",
       "  <thead>\n",
       "    <tr style=\"text-align: right;\">\n",
       "      <th></th>\n",
       "      <th>JobType</th>\n",
       "      <th>Count</th>\n",
       "    </tr>\n",
       "  </thead>\n",
       "  <tbody>\n",
       "    <tr>\n",
       "      <th>0</th>\n",
       "      <td>Full Time</td>\n",
       "      <td>12078</td>\n",
       "    </tr>\n",
       "    <tr>\n",
       "      <th>1</th>\n",
       "      <td>Contract/Temp</td>\n",
       "      <td>3813</td>\n",
       "    </tr>\n",
       "    <tr>\n",
       "      <th>2</th>\n",
       "      <td>Casual/Vacation</td>\n",
       "      <td>1760</td>\n",
       "    </tr>\n",
       "    <tr>\n",
       "      <th>3</th>\n",
       "      <td>Part Time</td>\n",
       "      <td>1128</td>\n",
       "    </tr>\n",
       "    <tr>\n",
       "      <th>4</th>\n",
       "      <td>Unspecified</td>\n",
       "      <td>1120</td>\n",
       "    </tr>\n",
       "  </tbody>\n",
       "</table>\n",
       "</div>"
      ],
      "text/plain": [
       "           JobType  Count\n",
       "0        Full Time  12078\n",
       "1    Contract/Temp   3813\n",
       "2  Casual/Vacation   1760\n",
       "3        Part Time   1128\n",
       "4      Unspecified   1120"
      ]
     },
     "metadata": {},
     "output_type": "display_data"
    },
    {
     "name": "stdout",
     "output_type": "stream",
     "text": [
      "\n",
      "Adelaide:\n"
     ]
    },
    {
     "data": {
      "text/html": [
       "<div>\n",
       "<style scoped>\n",
       "    .dataframe tbody tr th:only-of-type {\n",
       "        vertical-align: middle;\n",
       "    }\n",
       "\n",
       "    .dataframe tbody tr th {\n",
       "        vertical-align: top;\n",
       "    }\n",
       "\n",
       "    .dataframe thead th {\n",
       "        text-align: right;\n",
       "    }\n",
       "</style>\n",
       "<table border=\"1\" class=\"dataframe\">\n",
       "  <thead>\n",
       "    <tr style=\"text-align: right;\">\n",
       "      <th></th>\n",
       "      <th>JobType</th>\n",
       "      <th>Count</th>\n",
       "    </tr>\n",
       "  </thead>\n",
       "  <tbody>\n",
       "    <tr>\n",
       "      <th>0</th>\n",
       "      <td>Full Time</td>\n",
       "      <td>3638</td>\n",
       "    </tr>\n",
       "    <tr>\n",
       "      <th>1</th>\n",
       "      <td>Contract/Temp</td>\n",
       "      <td>982</td>\n",
       "    </tr>\n",
       "    <tr>\n",
       "      <th>2</th>\n",
       "      <td>Casual/Vacation</td>\n",
       "      <td>730</td>\n",
       "    </tr>\n",
       "    <tr>\n",
       "      <th>3</th>\n",
       "      <td>Part Time</td>\n",
       "      <td>467</td>\n",
       "    </tr>\n",
       "    <tr>\n",
       "      <th>4</th>\n",
       "      <td>Unspecified</td>\n",
       "      <td>306</td>\n",
       "    </tr>\n",
       "  </tbody>\n",
       "</table>\n",
       "</div>"
      ],
      "text/plain": [
       "           JobType  Count\n",
       "0        Full Time   3638\n",
       "1    Contract/Temp    982\n",
       "2  Casual/Vacation    730\n",
       "3        Part Time    467\n",
       "4      Unspecified    306"
      ]
     },
     "metadata": {},
     "output_type": "display_data"
    }
   ],
   "source": [
    "brisbane['JobType'].fillna('Unspecified', inplace=True)\n",
    "adelaide['JobType'].fillna('Unspecified', inplace=True)\n",
    "brisbaneTypeDist = brisbane['JobType'].value_counts().rename_axis('JobType').reset_index(name='Count')\n",
    "adelaideTypeDist = adelaide['JobType'].value_counts().rename_axis('JobType').reset_index(name='Count')\n",
    "\n",
    "print('Brisbane:')\n",
    "display(brisbaneTypeDist)\n",
    "\n",
    "print('\\nAdelaide:')\n",
    "display(adelaideTypeDist)"
   ]
  },
  {
   "cell_type": "code",
   "execution_count": 35,
   "id": "147342c3",
   "metadata": {},
   "outputs": [
    {
     "name": "stdout",
     "output_type": "stream",
     "text": [
      "Brisbane:\n"
     ]
    },
    {
     "data": {
      "text/html": [
       "<div>\n",
       "<style scoped>\n",
       "    .dataframe tbody tr th:only-of-type {\n",
       "        vertical-align: middle;\n",
       "    }\n",
       "\n",
       "    .dataframe tbody tr th {\n",
       "        vertical-align: top;\n",
       "    }\n",
       "\n",
       "    .dataframe thead th {\n",
       "        text-align: right;\n",
       "    }\n",
       "</style>\n",
       "<table border=\"1\" class=\"dataframe\">\n",
       "  <thead>\n",
       "    <tr style=\"text-align: right;\">\n",
       "      <th></th>\n",
       "      <th>Classification</th>\n",
       "      <th>Count</th>\n",
       "    </tr>\n",
       "  </thead>\n",
       "  <tbody>\n",
       "    <tr>\n",
       "      <th>0</th>\n",
       "      <td>Information &amp; Communication Technology</td>\n",
       "      <td>2550</td>\n",
       "    </tr>\n",
       "    <tr>\n",
       "      <th>1</th>\n",
       "      <td>Trades &amp; Services</td>\n",
       "      <td>1896</td>\n",
       "    </tr>\n",
       "    <tr>\n",
       "      <th>2</th>\n",
       "      <td>Healthcare &amp; Medical</td>\n",
       "      <td>1680</td>\n",
       "    </tr>\n",
       "    <tr>\n",
       "      <th>3</th>\n",
       "      <td>Manufacturing, Transport &amp; Logistics</td>\n",
       "      <td>1563</td>\n",
       "    </tr>\n",
       "    <tr>\n",
       "      <th>4</th>\n",
       "      <td>Hospitality &amp; Tourism</td>\n",
       "      <td>1237</td>\n",
       "    </tr>\n",
       "  </tbody>\n",
       "</table>\n",
       "</div>"
      ],
      "text/plain": [
       "                           Classification  Count\n",
       "0  Information & Communication Technology   2550\n",
       "1                       Trades & Services   1896\n",
       "2                    Healthcare & Medical   1680\n",
       "3    Manufacturing, Transport & Logistics   1563\n",
       "4                   Hospitality & Tourism   1237"
      ]
     },
     "metadata": {},
     "output_type": "display_data"
    },
    {
     "name": "stdout",
     "output_type": "stream",
     "text": [
      "\n",
      "Adelaide:\n"
     ]
    },
    {
     "data": {
      "text/html": [
       "<div>\n",
       "<style scoped>\n",
       "    .dataframe tbody tr th:only-of-type {\n",
       "        vertical-align: middle;\n",
       "    }\n",
       "\n",
       "    .dataframe tbody tr th {\n",
       "        vertical-align: top;\n",
       "    }\n",
       "\n",
       "    .dataframe thead th {\n",
       "        text-align: right;\n",
       "    }\n",
       "</style>\n",
       "<table border=\"1\" class=\"dataframe\">\n",
       "  <thead>\n",
       "    <tr style=\"text-align: right;\">\n",
       "      <th></th>\n",
       "      <th>Classification</th>\n",
       "      <th>Count</th>\n",
       "    </tr>\n",
       "  </thead>\n",
       "  <tbody>\n",
       "    <tr>\n",
       "      <th>0</th>\n",
       "      <td>Trades &amp; Services</td>\n",
       "      <td>761</td>\n",
       "    </tr>\n",
       "    <tr>\n",
       "      <th>1</th>\n",
       "      <td>Healthcare &amp; Medical</td>\n",
       "      <td>728</td>\n",
       "    </tr>\n",
       "    <tr>\n",
       "      <th>2</th>\n",
       "      <td>Manufacturing, Transport &amp; Logistics</td>\n",
       "      <td>518</td>\n",
       "    </tr>\n",
       "    <tr>\n",
       "      <th>3</th>\n",
       "      <td>Information &amp; Communication Technology</td>\n",
       "      <td>479</td>\n",
       "    </tr>\n",
       "    <tr>\n",
       "      <th>4</th>\n",
       "      <td>Hospitality &amp; Tourism</td>\n",
       "      <td>461</td>\n",
       "    </tr>\n",
       "  </tbody>\n",
       "</table>\n",
       "</div>"
      ],
      "text/plain": [
       "                           Classification  Count\n",
       "0                       Trades & Services    761\n",
       "1                    Healthcare & Medical    728\n",
       "2    Manufacturing, Transport & Logistics    518\n",
       "3  Information & Communication Technology    479\n",
       "4                   Hospitality & Tourism    461"
      ]
     },
     "metadata": {},
     "output_type": "display_data"
    }
   ],
   "source": [
    "# 2.\n",
    "brisbane['Classification'].fillna('Unspecified', inplace=True)\n",
    "adelaide['Classification'].fillna('Unspecified', inplace=True)\n",
    "brisbaneClassificationDist = brisbane['Classification'].value_counts().rename_axis('Classification').reset_index(name='Count')\n",
    "adelaideClassificationDist = adelaide['Classification'].value_counts().rename_axis('Classification').reset_index(name='Count')\n",
    "\n",
    "print('Brisbane:')\n",
    "display(brisbaneClassificationDist.head())\n",
    "\n",
    "print('\\nAdelaide:')\n",
    "display(adelaideClassificationDist.head())"
   ]
  },
  {
   "cell_type": "code",
   "execution_count": 36,
   "id": "073c88a5",
   "metadata": {},
   "outputs": [
    {
     "data": {
      "text/plain": [
       "Text(0.5, 1.0, 'Listings by classification (Adelaide)')"
      ]
     },
     "execution_count": 36,
     "metadata": {},
     "output_type": "execute_result"
    },
    {
     "data": {
      "image/png": "[encoded data removed]",
      "text/plain": [
       "<Figure size 864x864 with 2 Axes>"
      ]
     },
     "metadata": {},
     "output_type": "display_data"
    }
   ],
   "source": [
    "# 3.\n",
    "brisbaneTop5Classification = brisbaneClassificationDist.sort_values('Count', ascending = False).head(5)\n",
    "adelaideTop5Classification = adelaideClassificationDist.sort_values('Count', ascending = False).head(5)\n",
    "\n",
    "fig, axs = plt.subplots(2, 1, figsize=(12, 12))\n",
    "\n",
    "axs[0].pie(brisbaneTop5Classification['Count'], labels=brisbaneTop5Classification['Classification'], autopct='%1.1f%%', startangle=90)\n",
    "axs[0].set_title('Listings by classification (Brisbane)', size=22)\n",
    "\n",
    "axs[1].pie(adelaideTop5Classification['Count'], labels=adelaideTop5Classification['Classification'], autopct='%1.1f%%', startangle=90)\n",
    "axs[1].set_title('Listings by classification (Adelaide)', size=22)"
   ]
  },
  {
   "cell_type": "markdown",
   "id": "4b257851",
   "metadata": {
    "id": "4b257851"
   },
   "source": [
    "<h3>2. Analyse by time. (2 points) </h3>"
   ]
  },
  {
   "cell_type": "markdown",
   "id": "42d94e30",
   "metadata": {
    "id": "42d94e30"
   },
   "source": [
    "In this part, we will analyse the jobs based on the posting date. \n",
    "<ul>\n",
    "    <li>Visualise the number of job posts by month</li>\n",
    "    <li>Visualise the number of job posts by day of week.</li>\n",
    "    <li>Visualise the number of job posts by day of the month.</li>\n",
    "    <li>Visualise trending of the job postings for the big cities.*</li>\n",
    "    <li>Based on the above charts, provide your observation about the number of job posts over time. Give your own conclusion.</li>\n",
    "</ul>"
   ]
  },
  {
   "cell_type": "code",
   "execution_count": null,
   "id": "fa79db9d",
   "metadata": {
    "id": "fa79db9d"
   },
   "outputs": [],
   "source": [
    "#Ben"
   ]
  },
  {
   "cell_type": "markdown",
   "id": "2ea2d9c4",
   "metadata": {
    "id": "2ea2d9c4"
   },
   "source": [
    "<h3>3. Forecasting and skill extractions. (2 points)</h3>"
   ]
  },
  {
   "cell_type": "markdown",
   "id": "93ea6837",
   "metadata": {
    "id": "93ea6837"
   },
   "source": [
    "<ul>\n",
    "    <li>Using moving average for 7 days and 30 days to predict the number of job postings and visualise them in line chart. Which one creates a better prediction? Explain your choice.**</li>\n",
    "    <li>Choose your favourite job sector/sub-sector, then use TF/IDF to extract important keywords. Visualise them in word cloud chart (hint: you can use the online tool https://wordart.com/create or similar websites)**.</li>\n",
    "</ul>\n"
   ]
  },
  {
   "cell_type": "code",
   "execution_count": null,
   "id": "da559fec",
   "metadata": {
    "id": "da559fec"
   },
   "outputs": [],
   "source": [
    "#Julius"
   ]
  },
  {
   "cell_type": "code",
   "execution_count": 70,
   "id": "b17e29aa",
   "metadata": {},
   "outputs": [
    {
     "data": {
      "text/plain": [
       "Text(0, 0.5, 'Count')"
      ]
     },
     "execution_count": 70,
     "metadata": {},
     "output_type": "execute_result"
    },
    {
     "data": {
      "image/png": "[encoded data removed]",
      "text/plain": [
       "<Figure size 1080x360 with 1 Axes>"
      ]
     },
     "metadata": {
      "needs_background": "light"
     },
     "output_type": "display_data"
    }
   ],
   "source": [
    "# 1.\n",
    "dateDistribution = df.copy()\n",
    "\n",
    "dateDistribution = dateDistribution['Date'].value_counts().rename_axis('Date').reset_index(name='Count')\n",
    "dateDistribution.sort_values(by='Date', inplace=True, ignore_index=True)\n",
    "\n",
    "fig, ax = plt.subplots(figsize=(15, 5))\n",
    "\n",
    "sns.lineplot(ax=ax, data=dateDistribution, x='Date', y='Count')\n",
    "plt.title('New listings over time', size=20)\n",
    "plt.xlabel('Date', size=15)\n",
    "plt.ylabel('Count', size=15)"
   ]
  },
  {
   "cell_type": "code",
   "execution_count": 86,
   "id": "2d5d3e99",
   "metadata": {},
   "outputs": [],
   "source": [
    "def get_moving_average(data, k, to_period):\n",
    "    ma_df = pd.DataFrame(columns=['Date','Count'])\n",
    "    for m in range(0, to_period):\n",
    "        if m < k:\n",
    "            prediction = float('nan')\n",
    "        else:\n",
    "            history = data['Count'][m-k:m]\n",
    "            prediction = history.mean()\n",
    "        ma_df.loc[m] = [data.Date[0] + pd.Timedelta(days=m+1), prediction]       \n",
    "    return ma_df"
   ]
  },
  {
   "cell_type": "code",
   "execution_count": 88,
   "id": "a9362ccf",
   "metadata": {},
   "outputs": [
    {
     "data": {
      "text/plain": [
       "Text(0, 0.5, 'Count')"
      ]
     },
     "execution_count": 88,
     "metadata": {},
     "output_type": "execute_result"
    },
    {
     "data": {
      "image/png": "[encoded data removed]",
      "text/plain": [
       "<Figure size 1080x360 with 1 Axes>"
      ]
     },
     "metadata": {
      "needs_background": "light"
     },
     "output_type": "display_data"
    }
   ],
   "source": [
    "periodLength = dateDistribution.shape[0]\n",
    "\n",
    "seven_day_ma = get_moving_average(dateDistribution, 7, periodLength+7)\n",
    "thirty_day_ma = get_moving_average(dateDistribution, 30, periodLength+30)\n",
    "\n",
    "fig, ax = plt.subplots(figsize=(15, 5))\n",
    "\n",
    "sns.lineplot(ax=ax, data=dateDistribution, x='Date', y='Count', color='b')\n",
    "sns.lineplot(ax=ax, data=seven_day_ma, x='Date', y='Count', color='r')\n",
    "sns.lineplot(ax=ax, data=thirty_day_ma, x='Date', y='Count', color='g')\n",
    "\n",
    "ax.legend(labels=[\"Job listings\", \"7-day moving average\", \"30-day moving average\"])\n",
    "ax.set_xlabel('Date')\n",
    "ax.set_ylabel('Count')"
   ]
  },
  {
   "cell_type": "markdown",
   "id": "df50e69b",
   "metadata": {
    "id": "df50e69b"
   },
   "source": [
    "<h2>Part 4 – Discussion. [4 points] </h2>"
   ]
  },
  {
   "cell_type": "markdown",
   "id": "363a53fd",
   "metadata": {
    "id": "363a53fd"
   },
   "source": [
    "<ul>\n",
    "    <li><strong>Scenario 1:</strong> Tom, a grade 12 student in Brisbane, has good results in all of the subjects in his school. He is finding a major in the University which can guarantee a job in his state (Queensland) with a good income (>=80K) in the future. Based on the current job market dataset, which major and the related subjects do you recommend him? Explain your choice.*** ( Max 750 words) </li>\n",
    "    <li><strong>Scenario 2:</strong> To gain a better reputation, Griffith University wants to attract more students by enhancing the employability of the graduates. As a data analyst, you need to give the recommendation for the management board for the changing of the admission numbers in each major. Which majors should be extended, and which majors should be reduced (Assume that we only need to use job market data, regardless of other factors such as social impact, economic impact, etc. )? Justify your recommendation.*** ( Max 750 words)</li>\n",
    "</ul>"
   ]
  },
  {
   "cell_type": "code",
   "execution_count": null,
   "id": "be864797",
   "metadata": {
    "id": "be864797"
   },
   "outputs": [],
   "source": [
    "#1 -> Ben\n",
    "#2 -> Julius"
   ]
  },
  {
   "cell_type": "code",
   "execution_count": null,
   "id": "a966969f",
   "metadata": {},
   "outputs": [],
   "source": [
    "#focus on brisbane jobs"
   ]
  },
  {
   "cell_type": "code",
   "execution_count": null,
   "id": "2d0cb0d2",
   "metadata": {},
   "outputs": [],
   "source": [
    "#NOTES:\n",
    "#ask about handeling of duplicates\n",
    "#does the MA look right?"
   ]
  }
 ],
 "metadata": {
  "colab": {
   "name": "3030ICT_Assignment.ipynb",
   "provenance": []
  },
  "kernelspec": {
   "display_name": "Python 3",
   "language": "python",
   "name": "python3"
  },
  "language_info": {
   "codemirror_mode": {
    "name": "ipython",
    "version": 3
   },
   "file_extension": ".py",
   "mimetype": "text/x-python",
   "name": "python",
   "nbconvert_exporter": "python",
   "pygments_lexer": "ipython3",
   "version": "3.8.8"
  }
 },
 "nbformat": 4,
 "nbformat_minor": 5
}
